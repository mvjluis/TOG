{
 "cells": [
  {
   "cell_type": "markdown",
   "metadata": {},
   "source": [
    "# FASTER R-CNN"
   ]
  },
  {
   "cell_type": "code",
   "execution_count": 1,
   "metadata": {},
   "outputs": [],
   "source": [
    "# imports\n",
    "import numpy as np\n",
    "import tensorflow as tf"
   ]
  },
  {
   "cell_type": "code",
   "execution_count": 11,
   "metadata": {},
   "outputs": [],
   "source": [
    "#Feature Extraction\n",
    "# create random image\n",
    "image = np.zeros((1,3,800,800))\n",
    "#change type to float\n",
    "image = image.astype(np.float32)\n",
    "# convert to tensor\n",
    "image = tf.convert_to_tensor(image)"
   ]
  },
  {
   "cell_type": "code",
   "execution_count": 28,
   "metadata": {},
   "outputs": [],
   "source": [
    "# Using just tensorflow to create generic data of ...\n",
    "# image\n",
    "image = tf.zeros([1,800,800,3], tf.float32)\n",
    "# bbox\n",
    "bbox = tf.constant([[20, 30, 400, 500], [300, 400, 500, 600]])\n",
    "# labels for each bbox\n",
    "labels = tf.constant([6,8]) \n",
    "sub_sample = 16"
   ]
  },
  {
   "cell_type": "markdown",
   "metadata": {},
   "source": [
    "The VGG16 network is used as a feature extraction module here, This acts as a backbone for both the RPN network and Fast_R-CNN network. We need to make a few changes to the VGG network inorder to make this work. Since the input of the network is 800, the output of the feature extraction module should have a feature map size of (800//16). So we need to check where the VGG16 module is achieving this feature map size and trim the network till der. This can be done in the following way."
   ]
  },
  {
   "cell_type": "markdown",
   "metadata": {},
   "source": [
    "#### Pytorch implementation:\n",
    "https://medium.com/@fractaldle/guide-to-build-faster-rcnn-in-pytorch-95b10c273439"
   ]
  },
  {
   "cell_type": "markdown",
   "metadata": {},
   "source": [
    "## 1 ) VGG16  import"
   ]
  },
  {
   "cell_type": "code",
   "execution_count": 63,
   "metadata": {},
   "outputs": [],
   "source": [
    "from tensorflow.keras.applications import VGG16\n",
    "from tensorflow.keras.models import Model\n",
    "import tensorflow.keras.layers as layers"
   ]
  },
  {
   "cell_type": "code",
   "execution_count": 23,
   "metadata": {},
   "outputs": [
    {
     "name": "stdout",
     "output_type": "stream",
     "text": [
      "Downloading data from https://github.com/fchollet/deep-learning-models/releases/download/v0.1/vgg16_weights_tf_dim_ordering_tf_kernels_notop.h5\n",
      "58892288/58889256 [==============================] - 11s 0us/step\n"
     ]
    }
   ],
   "source": [
    "# The default input size for this model is 224x224.\n",
    "vgg = VGG16(weights='imagenet', include_top=False, input_tensor=layers.Input(shape=[800, 800, 3]))"
   ]
  },
  {
   "cell_type": "code",
   "execution_count": 24,
   "metadata": {},
   "outputs": [],
   "source": [
    "vgg.trainable = False"
   ]
  },
  {
   "cell_type": "code",
   "execution_count": 59,
   "metadata": {},
   "outputs": [
    {
     "data": {
      "text/plain": [
       "[<tensorflow.python.keras.engine.input_layer.InputLayer at 0x1ee5787d388>,\n",
       " <tensorflow.python.keras.layers.convolutional.Conv2D at 0x1ee5787dd08>,\n",
       " <tensorflow.python.keras.layers.convolutional.Conv2D at 0x1ee57848dc8>,\n",
       " <tensorflow.python.keras.layers.pooling.MaxPooling2D at 0x1ee579ea1c8>,\n",
       " <tensorflow.python.keras.layers.convolutional.Conv2D at 0x1ee579df608>,\n",
       " <tensorflow.python.keras.layers.convolutional.Conv2D at 0x1ee579f3148>,\n",
       " <tensorflow.python.keras.layers.pooling.MaxPooling2D at 0x1ee579e6ac8>,\n",
       " <tensorflow.python.keras.layers.convolutional.Conv2D at 0x1ee57a06408>,\n",
       " <tensorflow.python.keras.layers.convolutional.Conv2D at 0x1ee57a15d48>,\n",
       " <tensorflow.python.keras.layers.convolutional.Conv2D at 0x1ee57a17a48>,\n",
       " <tensorflow.python.keras.layers.pooling.MaxPooling2D at 0x1ee57a21248>,\n",
       " <tensorflow.python.keras.layers.convolutional.Conv2D at 0x1ee57a2b388>,\n",
       " <tensorflow.python.keras.layers.convolutional.Conv2D at 0x1ee57a34c88>,\n",
       " <tensorflow.python.keras.layers.convolutional.Conv2D at 0x1ee57a37988>,\n",
       " <tensorflow.python.keras.layers.pooling.MaxPooling2D at 0x1ee57a409c8>,\n",
       " <tensorflow.python.keras.layers.convolutional.Conv2D at 0x1ee57a4a308>,\n",
       " <tensorflow.python.keras.layers.convolutional.Conv2D at 0x1ee57a56c48>,\n",
       " <tensorflow.python.keras.layers.convolutional.Conv2D at 0x1ee57a58948>,\n",
       " <tensorflow.python.keras.layers.pooling.MaxPooling2D at 0x1ee57a60988>]"
      ]
     },
     "execution_count": 59,
     "metadata": {},
     "output_type": "execute_result"
    }
   ],
   "source": [
    "#Show the layers\n",
    "vgg.layers\n",
    "# or uncomment the next line\n",
    "#vgg.summary()"
   ]
  },
  {
   "cell_type": "code",
   "execution_count": 46,
   "metadata": {},
   "outputs": [
    {
     "name": "stdout",
     "output_type": "stream",
     "text": [
      "size of vgg feature layers:  19\n",
      "brake\n",
      "shape of ouput:  (1, 50, 50, 512)\n",
      "number of layers needed:  18\n"
     ]
    }
   ],
   "source": [
    "#how to pass a input test tensor through the layers without compile the model?\n",
    "im = image\n",
    "fe_layers = vgg.layers\n",
    "l_c = 0\n",
    "req_layers = []\n",
    "print(\"size of vgg feature layers: \", len(fe_layers))\n",
    "# Use CPU to test the convolutions\n",
    "with tf.device('CPU:0'):\n",
    "    for i in fe_layers:\n",
    "        im = i(im)\n",
    "        if im.shape[1] < 800//16:\n",
    "            print('brake')\n",
    "            break\n",
    "        req_layers.append(i)\n",
    "        l_c += 1\n",
    "        out_channels = im.shape\n",
    "print('shape of ouput: ', out_channels)\n",
    "print('number of layers needed: ', l_c)"
   ]
  },
  {
   "cell_type": "code",
   "execution_count": 47,
   "metadata": {},
   "outputs": [
    {
     "name": "stdout",
     "output_type": "stream",
     "text": [
      "[<tensorflow.python.keras.engine.input_layer.InputLayer object at 0x000001EE5787D388>, <tensorflow.python.keras.layers.convolutional.Conv2D object at 0x000001EE5787DD08>, <tensorflow.python.keras.layers.convolutional.Conv2D object at 0x000001EE57848DC8>, <tensorflow.python.keras.layers.pooling.MaxPooling2D object at 0x000001EE579EA1C8>, <tensorflow.python.keras.layers.convolutional.Conv2D object at 0x000001EE579DF608>, <tensorflow.python.keras.layers.convolutional.Conv2D object at 0x000001EE579F3148>, <tensorflow.python.keras.layers.pooling.MaxPooling2D object at 0x000001EE579E6AC8>, <tensorflow.python.keras.layers.convolutional.Conv2D object at 0x000001EE57A06408>, <tensorflow.python.keras.layers.convolutional.Conv2D object at 0x000001EE57A15D48>, <tensorflow.python.keras.layers.convolutional.Conv2D object at 0x000001EE57A17A48>, <tensorflow.python.keras.layers.pooling.MaxPooling2D object at 0x000001EE57A21248>, <tensorflow.python.keras.layers.convolutional.Conv2D object at 0x000001EE57A2B388>, <tensorflow.python.keras.layers.convolutional.Conv2D object at 0x000001EE57A34C88>, <tensorflow.python.keras.layers.convolutional.Conv2D object at 0x000001EE57A37988>, <tensorflow.python.keras.layers.pooling.MaxPooling2D object at 0x000001EE57A409C8>, <tensorflow.python.keras.layers.convolutional.Conv2D object at 0x000001EE57A4A308>, <tensorflow.python.keras.layers.convolutional.Conv2D object at 0x000001EE57A56C48>, <tensorflow.python.keras.layers.convolutional.Conv2D object at 0x000001EE57A58948>]\n"
     ]
    }
   ],
   "source": [
    "# print the required layers\n",
    "print(req_layers)"
   ]
  },
  {
   "cell_type": "code",
   "execution_count": 60,
   "metadata": {},
   "outputs": [],
   "source": [
    "# create the bakcbone for fast r-cnn\n",
    "input_fe = layers.Input(shape=[800, 800, 3])\n",
    "fe_extractor = req_layers[1](input_fe)\n",
    "for l in range(2,len(req_layers)):\n",
    "    fe_extractor = req_layers[l](fe_extractor)"
   ]
  },
  {
   "cell_type": "code",
   "execution_count": 70,
   "metadata": {},
   "outputs": [
    {
     "name": "stdout",
     "output_type": "stream",
     "text": [
      "shape of output:  (1, 50, 50, 512)\n"
     ]
    }
   ],
   "source": [
    "# Test feature extractor model output\n",
    "fe_model = Model(inputs=input_fe, outputs=fe_extractor)\n",
    "im = image\n",
    "with tf.device('CPU:0'):\n",
    "    im = fe_model(im)\n",
    "print(\"shape of output: \",im.shape)\n",
    "del(fe_model)\n",
    "\n",
    "# Input = input_fe,\n",
    "# Output of extractor feature = fe_extractor"
   ]
  },
  {
   "cell_type": "markdown",
   "metadata": {},
   "source": [
    "## 2) Anchor boxes"
   ]
  },
  {
   "cell_type": "code",
   "execution_count": 57,
   "metadata": {},
   "outputs": [
    {
     "name": "stdout",
     "output_type": "stream",
     "text": [
      "Using matplotlib backend: Qt5Agg\n"
     ]
    }
   ],
   "source": [
    "%matplotlib\n",
    "%matplotlib inline\n",
    "import matplotlib.pyplot as plt\n",
    "import numpy as np"
   ]
  },
  {
   "cell_type": "markdown",
   "metadata": {},
   "source": [
    "We will use anchor_scales of 8, 16, 32, ratio of 0.5, 1, 2 and sub sampling of 16 (Since we have pooled our image from 800 px to 50px). Now every pixel in the output feature map maps to corresponding 16 * 16 pixels in the image."
   ]
  },
  {
   "cell_type": "markdown",
   "metadata": {},
   "source": [
    "At each pixel location on the feature map, We need to generate 9 anchor boxes (number of anchor_scales and number of ratios) and each anchor box will have ‘y1’, ‘x1’, ‘y2’, ‘x2’. So at each location anchor will have a shape of (9, 4). "
   ]
  },
  {
   "cell_type": "code",
   "execution_count": 2,
   "metadata": {},
   "outputs": [
    {
     "name": "stdout",
     "output_type": "stream",
     "text": [
      "[[0. 0. 0. 0.]\n",
      " [0. 0. 0. 0.]\n",
      " [0. 0. 0. 0.]\n",
      " [0. 0. 0. 0.]\n",
      " [0. 0. 0. 0.]\n",
      " [0. 0. 0. 0.]\n",
      " [0. 0. 0. 0.]\n",
      " [0. 0. 0. 0.]\n",
      " [0. 0. 0. 0.]]\n"
     ]
    }
   ],
   "source": [
    "# As an example will be created 9 anchor boxes space for 'y1', 'x1', 'y2', 'x2'\n",
    "ratios = [0.5, 1, 2]\n",
    "# 0.5 : ratio 2:1; 1 : ratio 1:1; 2 : ratio 1:2;\n",
    "anchor_scales = [8, 16, 32]\n",
    "anchor_base = np.zeros((len(ratios)*len(anchor_scales), 4), dtype=np.float32)\n",
    "\n",
    "print(anchor_base)"
   ]
  },
  {
   "cell_type": "code",
   "execution_count": 5,
   "metadata": {},
   "outputs": [
    {
     "name": "stdout",
     "output_type": "stream",
     "text": [
      "center of the sample anchor boxes: yc = 8.0, xc = 8.0\n",
      "[[ -37.254833  -82.50967    53.254833   98.50967 ]\n",
      " [ -82.50967  -173.01933    98.50967   189.01933 ]\n",
      " [-173.01933  -354.03867   189.01933   370.03867 ]\n",
      " [ -56.        -56.         72.         72.      ]\n",
      " [-120.       -120.        136.        136.      ]\n",
      " [-248.       -248.        264.        264.      ]\n",
      " [ -82.50967   -37.254833   98.50967    53.254833]\n",
      " [-173.01933   -82.50967   189.01933    98.50967 ]\n",
      " [-354.03867  -173.01933   370.03867   189.01933 ]]\n"
     ]
    }
   ],
   "source": [
    "# example to fill the anchor x and y coordinates values for the 9 anchor boxes of the respective size and ratio\n",
    "sub_sample = 16\n",
    "ctr_y = sub_sample / 2.\n",
    "ctr_x = sub_sample / 2.\n",
    "\n",
    "print('center of the sample anchor boxes: yc = {}, xc = {}'.format(ctr_y, ctr_x))\n",
    "for i in range(len(ratios)):\n",
    "    for j in range(len(anchor_scales)):\n",
    "        h = sub_sample * anchor_scales[j] * np.sqrt(ratios[i])\n",
    "        w = sub_sample * anchor_scales[j] * np.sqrt(1./ ratios[i])\n",
    "        #print(\"height: {}, width: {}\".format(h, w))\n",
    "        \n",
    "        index = i * len(anchor_scales) + j\n",
    "        \n",
    "        anchor_base[index, 0] = ctr_y - h/ 2.\n",
    "        anchor_base[index, 1] = ctr_x - w/ 2.\n",
    "        anchor_base[index, 2] = ctr_y + h/ 2.\n",
    "        anchor_base[index, 3] = ctr_x + w/ 2.\n",
    "\n",
    "print(anchor_base)"
   ]
  },
  {
   "cell_type": "markdown",
   "metadata": {},
   "source": [
    "These are the anchor locations at the first feature map pixel, we have to now generate these anchors at all the locations of feature map. \n",
    "\n",
    "In the later section we will label them with -1 and remove them when calculating the loss the functions and generating proposals for anchor boxes.\n",
    "\n",
    "Also Since we got 9 anchors at each location and there 50 * 50 such locations inside an image, We will get 17500 ((50 * 50 * 9) - (number of invalid anchor boxes)) anchors in total."
   ]
  },
  {
   "cell_type": "markdown",
   "metadata": {},
   "source": [
    "### Generate anchors for all the feature map (50 x 50 x 512) "
   ]
  },
  {
   "cell_type": "code",
   "execution_count": 8,
   "metadata": {},
   "outputs": [
    {
     "data": {
      "text/plain": [
       "array([ 16,  32,  48,  64,  80,  96, 112, 128, 144, 160, 176, 192, 208,\n",
       "       224, 240, 256, 272, 288, 304, 320, 336, 352, 368, 384, 400, 416,\n",
       "       432, 448, 464, 480, 496, 512, 528, 544, 560, 576, 592, 608, 624,\n",
       "       640, 656, 672, 688, 704, 720, 736, 752, 768, 784, 800])"
      ]
     },
     "execution_count": 8,
     "metadata": {},
     "output_type": "execute_result"
    }
   ],
   "source": [
    "fe_size = (800//16)\n",
    "ctr_x = np.arange(16, (fe_size+1) * 16, 16)\n",
    "ctr_y = np.arange(16, (fe_size+1) * 16, 16)\n",
    "\n",
    "ctr_x"
   ]
  },
  {
   "cell_type": "code",
   "execution_count": 27,
   "metadata": {},
   "outputs": [],
   "source": [
    "# Generate the center coordinates for every anchor box\n",
    "index = 0\n",
    "ctr = []\n",
    "#print(ctr[0][1])\n",
    "for x in range(len(ctr_x)):\n",
    "    for y in range(len(ctr_y)):\n",
    "        #print(index)\n",
    "        ctr.append([ctr_y[y] - 8 , ctr_x[x] - 8])\n",
    "        index += 1\n",
    "ctr = np.array(ctr)"
   ]
  },
  {
   "cell_type": "code",
   "execution_count": 36,
   "metadata": {
    "scrolled": true
   },
   "outputs": [
    {
     "data": {
      "image/png": "[encoded data removed]",
      "text/plain": [
       "<Figure size 2880x2880 with 1 Axes>"
      ]
     },
     "metadata": {
      "needs_background": "light"
     },
     "output_type": "display_data"
    }
   ],
   "source": [
    "# Plot the center of the anchor boxes\n",
    "plt.figure(figsize=(40,40))\n",
    "plt.scatter(ctr[:,1],ctr[:,0])\n",
    "plt.show()"
   ]
  },
  {
   "cell_type": "markdown",
   "metadata": {},
   "source": [
    "The output will be the (x, y) value at each location as shown in the image above. Together we have 2500 anchor centers. Now at each center we need to generate the anchor boxes. This can be done using the code we have used for generating anchor at one location, adding an extract for loop for supplying centers of each anchor will do. Lets see how this is done\n"
   ]
  },
  {
   "cell_type": "code",
   "execution_count": 40,
   "metadata": {},
   "outputs": [
    {
     "name": "stdout",
     "output_type": "stream",
     "text": [
      "(22500, 4)\n"
     ]
    }
   ],
   "source": [
    "# Create the 9 anchor box for every center\n",
    "anchors = np.zeros(((fe_size*fe_size*9), 4))\n",
    "index = 0\n",
    "for c in ctr:\n",
    "    ctr_y, ctr_x = c\n",
    "    for i in range(len(ratios)):\n",
    "        for j in range(len(anchor_scales)):\n",
    "            h = sub_sample * anchor_scales[j] * np.sqrt(ratios[i])\n",
    "            w = sub_sample * anchor_scales[j] * np.sqrt(1./ ratios[i])\n",
    "            \n",
    "            anchors[index, 0] = ctr_y - h/ 2.\n",
    "            anchors[index, 1] = ctr_x - w/ 2.\n",
    "            anchors[index, 2] = ctr_y + h/ 2.\n",
    "            anchors[index, 3] = ctr_x + w/ 2.\n",
    "            index += 1\n",
    "            \n",
    "print(anchors.shape)"
   ]
  },
  {
   "cell_type": "markdown",
   "metadata": {},
   "source": [
    "There are better way of generating anchor boxes"
   ]
  },
  {
   "cell_type": "code",
   "execution_count": 61,
   "metadata": {},
   "outputs": [
    {
     "name": "stdout",
     "output_type": "stream",
     "text": [
      "(8940,)\n"
     ]
    }
   ],
   "source": [
    "# Get just the valid indexes of the anchor boxes\n",
    "index_inside = np.where((\n",
    "    (anchors[:, 0] >= 0) &\n",
    "    (anchors[:, 1] >= 0) &\n",
    "    (anchors[:, 2] <= 800) &\n",
    "    (anchors[:, 3] <= 800)\n",
    "    ))[0]\n",
    "print(index_inside.shape)"
   ]
  },
  {
   "cell_type": "code",
   "execution_count": 65,
   "metadata": {},
   "outputs": [
    {
     "name": "stdout",
     "output_type": "stream",
     "text": [
      "label shape: (8940,)\n",
      "valid anchor boxes: (8940, 4)\n"
     ]
    }
   ],
   "source": [
    "# create an empty array with inside_index shape and fill with -1\n",
    "label = np.empty((len(index_inside), ), dtype=np.int32)\n",
    "label.fill(-1)\n",
    "print(\"label shape: {}\".format(label.shape))\n",
    "\n",
    "# array with valid anchors\n",
    "valid_anchor_boxes = anchors[index_inside]\n",
    "print(\"valid anchor boxes: {}\".format(valid_anchor_boxes.shape))"
   ]
  },
  {
   "cell_type": "markdown",
   "metadata": {},
   "source": [
    "### IOU calculation for every anchor box"
   ]
  },
  {
   "cell_type": "code",
   "execution_count": 66,
   "metadata": {},
   "outputs": [],
   "source": [
    "# Example of ground truth bbox and labels\n",
    "bbox = np.asarray([[20, 30, 400, 500],[300, 400, 500, 600]], dtype=np.float32)\n",
    "# labels of the bbox\n",
    "labels = np.asarray([6,8], dtype=np.int8)\n",
    "# 0 represent background"
   ]
  },
  {
   "cell_type": "markdown",
   "metadata": {},
   "source": [
    "$IOU = \\frac{A \\cap B}{A \\cup B}$"
   ]
  },
  {
   "cell_type": "markdown",
   "metadata": {},
   "source": [
    "A = Area of ground truth;\n",
    "\n",
    "B = Area of anchor box;"
   ]
  },
  {
   "cell_type": "markdown",
   "metadata": {},
   "source": [
    "$IOU = \\frac{Area of intersection}{Area of ground truth + Area of anchor - Area of intersection}$"
   ]
  },
  {
   "cell_type": "code",
   "execution_count": 69,
   "metadata": {},
   "outputs": [
    {
     "name": "stdout",
     "output_type": "stream",
     "text": [
      "ious shape: (8940, 2)\n"
     ]
    }
   ],
   "source": [
    "# Create array of iou ( intersection over union) of every anchor box\n",
    "ious = np.empty((len(valid_anchor_boxes), len(bbox)), dtype=np.float32)\n",
    "ious.fill(0)\n",
    "for num1, i in enumerate(valid_anchor_boxes):\n",
    "    #num1 = enumeration of anchor\n",
    "    #i = anchor box [y1, x1, y2, x2]\n",
    "    ya1, xa1, ya2, xa2 = i\n",
    "    anchor_area = (ya2 - ya1) * (xa2 - xa1)\n",
    "    for num2, j in enumerate(bbox):\n",
    "        #num2 = enumeration of bbox with ground truth\n",
    "        #j = bbox with ground truth\n",
    "        yb1, xb1, yb2, xb2 = j\n",
    "        box_area = (yb2 - yb1) * (xb2 - xb1)\n",
    "        \n",
    "        inter_x1 = max([xb1, xa1])\n",
    "        inter_y1 = max([yb1, ya1])\n",
    "        inter_x2 = min([xb2, xa2])\n",
    "        inter_y2 = min([yb2, ya2])\n",
    "        \n",
    "        if (inter_x1 < inter_x2) and (inter_y1 < inter_y2):\n",
    "            iter_area = (inter_y2 - inter_y1) * (inter_x2 - inter_x1)\n",
    "            iou = iter_area / (anchor_area + box_area - iter_area)\n",
    "        else:\n",
    "            iou = 0.\n",
    "        ious[num1, num2] = iou\n",
    "\n",
    "print(\"ious shape: {}\".format(ious.shape))"
   ]
  },
  {
   "cell_type": "markdown",
   "metadata": {},
   "source": [
    "Note: Using numpy arrays, these calculations can be done much more efficiently and with less verbose."
   ]
  },
  {
   "cell_type": "markdown",
   "metadata": {},
   "source": [
    "Now since we have generated all the anchor boxes, we need to look at the objects inside the image and assign them to the specific anchor boxes which contain them. Faster_R-CNN has some guidelines to assign labels to the anchor boxes\n",
    "We assign a positive label to two kind of anchors \n",
    "\n",
    "a) The anchor/anchors with the highest Intersection-over-Union(IoU) overlap with a ground-truth-box or \n",
    "\n",
    "b) An anchor that has an IoU overlap higher than 0.7 with ground-truth box.\n",
    "Note that single ground-truth object may assign positive labels to multiple anchors.\n",
    "\n",
    "c) We assign a negative label to a non-positive anchor if its IoU ratio is lower than 0.3 for all ground-truth boxes. \n",
    "\n",
    "d) Anchors that are neither positive nor negitive do not contribute to the training objective."
   ]
  },
  {
   "cell_type": "code",
   "execution_count": 71,
   "metadata": {},
   "outputs": [
    {
     "name": "stdout",
     "output_type": "stream",
     "text": [
      "[2262 5620]\n",
      "[0.68130493 0.61035156]\n"
     ]
    }
   ],
   "source": [
    "# a) get the index of the greatest IOU for each ground truth bbox\n",
    "# indexes\n",
    "gt_argmax_ious = ious.argmax(axis=0)\n",
    "print(gt_argmax_ious)\n",
    "\n",
    "# IOU value\n",
    "gt_max_ious = ious[gt_argmax_ious, np.arange(ious.shape[1])]\n",
    "print(gt_max_ious)"
   ]
  },
  {
   "cell_type": "code",
   "execution_count": 74,
   "metadata": {},
   "outputs": [
    {
     "name": "stdout",
     "output_type": "stream",
     "text": [
      "(8940,)\n",
      "[0 0 0 ... 0 0 0]\n",
      "[0.06811669 0.07083762 0.07083762 ... 0.         0.         0.        ]\n"
     ]
    }
   ],
   "source": [
    "# b) get the greater value between the IOUs of every valid anchor box\n",
    "\n",
    "# get the localization of the greater value of IOU of every anchor\n",
    "argmax_ious = ious.argmax(axis=1)\n",
    "print(argmax_ious.shape)\n",
    "print(argmax_ious)\n",
    "\n",
    "# get the value of the greater value of IOU of every valid anchor box\n",
    "max_ious = ious[np.arange(len(index_inside)), argmax_ious]\n",
    "print(max_ious)"
   ]
  },
  {
   "cell_type": "code",
   "execution_count": 75,
   "metadata": {},
   "outputs": [
    {
     "name": "stdout",
     "output_type": "stream",
     "text": [
      "[2262 2508 5620 5628 5636 5644 5866 5874 5882 5890 6112 6120 6128 6136\n",
      " 6358 6366 6374 6382]\n"
     ]
    }
   ],
   "source": [
    "# find the anchor boxes which have this max_ious(gt_max_ious)\n",
    "\n",
    "gt_argmax_ious = np.where(ious == gt_max_ious)[0]\n",
    "print(gt_argmax_ious)"
   ]
  },
  {
   "cell_type": "markdown",
   "metadata": {},
   "source": [
    "Now we have three arrays\n",
    "\n",
    "argmax_ious — Tells which ground truth object has max iou with each anchor.\n",
    "\n",
    "max_ious — Tells the max_iou with ground truth object with each anchor.\n",
    "\n",
    "gt_argmax_ious — Tells the anchors with the highest Intersection-over-Union (IoU) overlap with a ground-truth box.\n",
    "\n",
    "Using argmax_ious and max_ious we can assign labels and locations to anchor boxes which satisify [b] and [c]. Using gt_argmax_ious we can assign labels and locations to anchor boxes which satisify [a]."
   ]
  },
  {
   "cell_type": "markdown",
   "metadata": {},
   "source": [
    "### Asign Label to anchor boxes"
   ]
  },
  {
   "cell_type": "code",
   "execution_count": 76,
   "metadata": {},
   "outputs": [],
   "source": [
    "pos_iou_threshold = 0.7\n",
    "neg_iou_threshold = 0.3"
   ]
  },
  {
   "cell_type": "code",
   "execution_count": 77,
   "metadata": {},
   "outputs": [
    {
     "data": {
      "text/plain": [
       "array([-1, -1, -1, ..., -1, -1, -1])"
      ]
     },
     "execution_count": 77,
     "metadata": {},
     "output_type": "execute_result"
    }
   ],
   "source": [
    "# label array initialized with \"-1\" value \n",
    "label\n",
    "# -1 : No used for training\n",
    "# 0 : No object in the anchor; it is applied if the max_ious[i] < neg_iou_threshold\n",
    "# 1 : Object in the anchor; it is applied if the max_ious[i] >= pos_iou_threshold ...\n",
    "# or if the anchor is one of the gt_argmax_ious"
   ]
  },
  {
   "cell_type": "code",
   "execution_count": 79,
   "metadata": {},
   "outputs": [],
   "source": [
    "# no object in anchor\n",
    "label[max_ious < neg_iou_threshold] = 0\n",
    "# object in anchor\n",
    "label[gt_argmax_ious] = 1\n",
    "label[max_ious >= pos_iou_threshold] = 1"
   ]
  },
  {
   "cell_type": "markdown",
   "metadata": {},
   "source": [
    "### Selection of the training anchor boxes"
   ]
  },
  {
   "cell_type": "markdown",
   "metadata": {},
   "source": [
    "Training RPN The Faster_R-CNN paper phrases as follows Each mini-batch arises from a single image that contains many positive and negitive example anchors, but this will bias towards negitive samples as they are dominate. Instead, we randomly sample 256 anchors in an image to compute the loss function of a mini-batch, where the sampled positive and negative anchors have a ratio of up to 1:1. If there are fewer than 128 positive samples in an image, we pad the mini-batch with negitive ones"
   ]
  },
  {
   "cell_type": "code",
   "execution_count": 80,
   "metadata": {},
   "outputs": [],
   "source": [
    "# Since it is needed 256 anchors to compute the loss function with equal negative and positive samples\n",
    "# it is defined the next:\n",
    "pos_ratio = 0.5\n",
    "n_sample = 256\n",
    "# Total of positive samples\n",
    "n_pos = pos_ratio * n_sample"
   ]
  },
  {
   "cell_type": "code",
   "execution_count": 83,
   "metadata": {},
   "outputs": [],
   "source": [
    "# Positive samples:\n",
    "\n",
    "pos_index = np.where(label == 1)[0]\n",
    " # if there are more than n_pos positive samples, some of them are disabled the get just n_pos samples\n",
    "if len(pos_index) > n_pos:\n",
    "    disable_index = np.random.choice(pos_index, size=(len(pos_index) - n_pos), replace=False)\n",
    "    label[disable_index] = -1"
   ]
  },
  {
   "cell_type": "code",
   "execution_count": 84,
   "metadata": {},
   "outputs": [],
   "source": [
    "# Negative samples:\n",
    "\n",
    "# Check this line after: n_neg = n_sample * np.sum(label == 1)\n",
    "n_neg = n_sample - np.sum(label == 1)\n",
    "neg_index = np.where(label == 0)[0]\n",
    "\n",
    "if len(neg_index) > n_neg:\n",
    "    disable_index = np.random.choice(neg_index, size=(len(neg_index) - n_neg), replace=False)\n",
    "    label[disable_index] = -1"
   ]
  },
  {
   "cell_type": "code",
   "execution_count": 88,
   "metadata": {},
   "outputs": [
    {
     "name": "stdout",
     "output_type": "stream",
     "text": [
      "positive samples: 18\n",
      "negative samples: 238\n"
     ]
    },
    {
     "data": {
      "text/plain": [
       "True"
      ]
     },
     "execution_count": 88,
     "metadata": {},
     "output_type": "execute_result"
    }
   ],
   "source": [
    "# check the number of samples:\n",
    "\n",
    "print(\"positive samples: {}\".format(np.sum(label == 1)))\n",
    "print(\"negative samples: {}\".format(np.sum(label == 0)))\n",
    "(np.sum(label == 1) + np.sum(label == 0)) == n_sample"
   ]
  },
  {
   "cell_type": "markdown",
   "metadata": {},
   "source": [
    "### Asigning locations to anchor boxes"
   ]
  },
  {
   "cell_type": "code",
   "execution_count": null,
   "metadata": {},
   "outputs": [],
   "source": []
  }
 ],
 "metadata": {
  "kernelspec": {
   "display_name": "Python 3",
   "language": "python",
   "name": "python3"
  },
  "language_info": {
   "codemirror_mode": {
    "name": "ipython",
    "version": 3
   },
   "file_extension": ".py",
   "mimetype": "text/x-python",
   "name": "python",
   "nbconvert_exporter": "python",
   "pygments_lexer": "ipython3",
   "version": "3.7.9"
  }
 },
 "nbformat": 4,
 "nbformat_minor": 4
}
